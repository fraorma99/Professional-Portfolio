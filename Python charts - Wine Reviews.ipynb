{
 "cells": [
  {
   "cell_type": "markdown",
   "id": "247a6546-aae3-4b5a-bf27-a929bc40af3e",
   "metadata": {},
   "source": [
    "## INTRODUCTION"
   ]
  },
  {
   "cell_type": "markdown",
   "id": "e29d72a8-d3cf-4d04-b8cc-9886eca3244e",
   "metadata": {},
   "source": [
    "The project was developed on Jupyter Notebook."
   ]
  },
  {
   "cell_type": "markdown",
   "id": "ccb2da41-7339-43c9-bed1-3aff676deb7b",
   "metadata": {},
   "source": [
    "In this notebook, several features of a dataset containing about 130,000 wine reviews have been explored. The libraries used are exclusively those shown in the course of Data Manipulation and Visualization. \n",
    "\n",
    "The exploration of the dataset consists of 5 steps: Setup, Data Understanding, Data Cleaning, Preliminary Analysis and Deep Feature Analysis. Matplotlib and Seaborn charts were used in the preliminary analyses, while to have more complete and detailed graphs, I chose Plotly.\n",
    "\n",
    "For proper use, run all cells from top to bottom. Currently the graphs are not displayed to not overburden the file and facilitate its loading. Each note will populate the file with specific graphs. It is recommended to use the \"Restart Kernel and Run All Cells\" command from the \"Run\" section of the command bar."
   ]
  },
  {
   "cell_type": "markdown",
   "id": "5122639f-e1a8-4746-8c8c-a012a24234f8",
   "metadata": {},
   "source": [
    "## Step 0: Setup"
   ]
  },
  {
   "cell_type": "markdown",
   "id": "8ecebf4f-839d-4fd9-80e5-98ef0932f30d",
   "metadata": {},
   "source": [
    "Importing libraries"
   ]
  },
  {
   "cell_type": "code",
   "execution_count": null,
   "id": "d5312d36-c8d6-4fc9-9bba-4bb9191185b9",
   "metadata": {},
   "outputs": [],
   "source": [
    "import pandas as pd # Importing pandas\n",
    "import matplotlib.pyplot as plt # Importing matplotlib\n",
    "import seaborn as sns # Importing seaborn\n",
    "import plotly # Importing plotly\n",
    "import plotly.express as px # Importing px, a simpler graphical interface\n",
    "import plotly.graph_objects as go # Importing go, a more advanced graphical interface than px\n",
    "import numpy as np # Importing numpy\n",
    "pd.set_option('display.max_columns', 200) # Allows display in head() up to 200 columns\n",
    "import warnings\n",
    "warnings.filterwarnings('ignore') # Ignore some error messages that indicate obsolete methods in use"
   ]
  },
  {
   "cell_type": "markdown",
   "id": "817f5e34-803b-4efe-a412-67ad268428c3",
   "metadata": {},
   "source": [
    "I proceed with reading the CSV file downloaded from Kaggle and uploaded to a Google Drive link viewable by anyone who has the link\n",
    "\n",
    "https://drive.google.com/file/d/15wbDCriZiIoGVIo-zZKgj8-w9m36umU9/view?usp=sharing"
   ]
  },
  {
   "cell_type": "code",
   "execution_count": null,
   "id": "a785f06a-5103-4fe0-90a7-20839477944f",
   "metadata": {},
   "outputs": [],
   "source": [
    "# Creating URL with file ID\n",
    "file_id = '15wbDCriZiIoGVIo-zZKgj8-w9m36umU9'\n",
    "url = f\"https://drive.google.com/uc?id={file_id}\"\n",
    "\n",
    "# Creating the dataframe by reading the URL\n",
    "df = pd.read_csv(url)\n"
   ]
  },
  {
   "cell_type": "markdown",
   "id": "986c48ba-4b55-4cea-8939-eff83dd03fcc",
   "metadata": {},
   "source": [
    "## Step 1: Data Understanding"
   ]
  },
  {
   "cell_type": "code",
   "execution_count": null,
   "id": "3d22f167-98b6-4e77-8f27-a9e46e0dc251",
   "metadata": {},
   "outputs": [],
   "source": [
    "df.head() # Display the first 5 lines"
   ]
  },
  {
   "cell_type": "code",
   "execution_count": null,
   "id": "3767b3bc-686a-4e3b-9830-7186d808c57c",
   "metadata": {},
   "outputs": [],
   "source": [
    "df.tail() # Display the last 5 lines"
   ]
  },
  {
   "cell_type": "code",
   "execution_count": null,
   "id": "5b26e47b-6ce2-4895-981a-be529b47c83e",
   "metadata": {},
   "outputs": [],
   "source": [
    "df.shape # Display number of rows and columns of the dataframe"
   ]
  },
  {
   "cell_type": "code",
   "execution_count": null,
   "id": "2fffac18-b70f-40d2-92e4-712f69b4ece3",
   "metadata": {},
   "outputs": [],
   "source": [
    "df.columns # Display the name of each column"
   ]
  },
  {
   "cell_type": "code",
   "execution_count": null,
   "id": "1db64dbb-39d3-4f59-8dd1-51e6a1d94e33",
   "metadata": {},
   "outputs": [],
   "source": [
    "df.dtypes # Display the data types present in the dataframe"
   ]
  },
  {
   "cell_type": "code",
   "execution_count": null,
   "id": "7b1dd528-017a-4d2e-a070-925f3dedd966",
   "metadata": {},
   "outputs": [],
   "source": [
    "df.describe() # Display descriptive statistics"
   ]
  },
  {
   "cell_type": "code",
   "execution_count": null,
   "id": "50f0c3f4-8ba5-482f-97e4-8072b21cac1c",
   "metadata": {},
   "outputs": [],
   "source": [
    "df.isnull().sum() # Display quantity of null values per column"
   ]
  },
  {
   "cell_type": "markdown",
   "id": "90b02bd3-fcfc-4948-a310-c596485425a5",
   "metadata": {},
   "source": [
    "## Step 2: Data Cleaning"
   ]
  },
  {
   "cell_type": "markdown",
   "id": "a12e0057-d328-4370-b3db-76a9fe781863",
   "metadata": {},
   "source": [
    "I start by deleting the \"Unnamed\" column. This represents a mere numerical index already present in the data visualization of Jupyter Notebook, is therefore redundant.\n"
   ]
  },
  {
   "cell_type": "code",
   "execution_count": null,
   "id": "2ca3edc9-91b5-4d95-b02e-cfd5a18bfd8f",
   "metadata": {},
   "outputs": [],
   "source": [
    "df.drop(columns=[\"Unnamed: 0\"], inplace=True)"
   ]
  },
  {
   "cell_type": "markdown",
   "id": "41df6739-ab87-447c-a7e0-41dcadc271c5",
   "metadata": {},
   "source": [
    "I replace the missing NaN values in the \"price\" column.\n",
    "\n",
    "I will insert the median value for consistency with its asymetric distribution.\n"
   ]
  },
  {
   "cell_type": "code",
   "execution_count": null,
   "id": "0b18d1f1-30a0-4807-98ce-8f61c4923bd3",
   "metadata": {},
   "outputs": [],
   "source": [
    "df[\"price\"].fillna(df[\"price\"].median(), inplace=True)\n",
    "\n",
    "#inplace=True to make changes directly on the dataframe"
   ]
  },
  {
   "cell_type": "markdown",
   "id": "fbb9d67a-a12b-4432-9344-4000010a363a",
   "metadata": {},
   "source": [
    "I then replace the null values of the columns \"region_1\", \"region_2\", \"taster_name\", \"taster_twitter_handle\", \"designation\".\n",
    "\n",
    "I put \"Unknown\" as they are strings and can not enter useful values like the median for an int or a float"
   ]
  },
  {
   "cell_type": "code",
   "execution_count": null,
   "id": "41012377-63e9-4387-b218-5c2cd9e8b876",
   "metadata": {},
   "outputs": [],
   "source": [
    "df[\"designation\"].fillna(\"Unknown\", inplace=True)\n",
    "df[\"taster_name\"].fillna(\"Unknown\", inplace=True)\n",
    "df[\"taster_twitter_handle\"].fillna(\"Unknown\", inplace=True)\n",
    "df[\"region_1\"].fillna(\"Unknown\", inplace=True)\n",
    "df[\"region_2\"].fillna(\"Unknown\", inplace=True)"
   ]
  },
  {
   "cell_type": "markdown",
   "id": "19dcc318-7924-46a4-b58b-b410bf08f6c5",
   "metadata": {},
   "source": [
    "Finally I proceed with the elimination of the rows (there are few) with NaN values in crucial columns like \"country\", \"provinces\" and \"variety\"."
   ]
  },
  {
   "cell_type": "code",
   "execution_count": null,
   "id": "985af839-88d5-4cc6-8104-00912377d85a",
   "metadata": {},
   "outputs": [],
   "source": [
    "df.dropna(subset=[\"country\", \"province\", \"variety\"], inplace=True)"
   ]
  },
  {
   "cell_type": "code",
   "execution_count": null,
   "id": "6dfc881e-c49f-4ea5-9a39-3d7ce9af86a8",
   "metadata": {},
   "outputs": [],
   "source": [
    "df.isnull().sum() # I display the amount of null values again"
   ]
  },
  {
   "cell_type": "code",
   "execution_count": null,
   "id": "21ffe04f-27b9-4be0-8a24-a2f99f852dd0",
   "metadata": {},
   "outputs": [],
   "source": [
    "df.duplicated() # Ok, there are no duplicates"
   ]
  },
  {
   "cell_type": "markdown",
   "id": "35954de5-090a-4125-8f43-f8dcd005b443",
   "metadata": {},
   "source": [
    "## Step 3: Preliminary Analysis"
   ]
  },
  {
   "cell_type": "markdown",
   "id": "bb99d9d0-bec5-444c-ad47-7d2f36ba071a",
   "metadata": {},
   "source": [
    "To begin to understand the dataset I decide to explore in general the trend of prices and score, the different varieties and the origin of wines. I used charts generated with matplotlib library and/or seaborn for this preliminary phase."
   ]
  },
  {
   "cell_type": "code",
   "execution_count": null,
   "id": "f6369177-6eca-4b7a-bddd-b1cb44523fa5",
   "metadata": {},
   "outputs": [],
   "source": [
    "df.head()"
   ]
  },
  {
   "cell_type": "code",
   "execution_count": null,
   "id": "6d663ee5-9fcb-4131-b89a-6339d6162a49",
   "metadata": {},
   "outputs": [],
   "source": [
    " print(df[['points', 'price']].describe())"
   ]
  },
  {
   "cell_type": "markdown",
   "id": "1643d044-e415-4d1e-9120-83cd48081e82",
   "metadata": {},
   "source": [
    "I immediately notice a much wider range of values on the price, found at first sight not only by the quartiles but also by the narrow standard deviation on scores and wide on prices.\n",
    "\n",
    "It is plausible to think that the prices of wines present outliers upwards (given the rather low average) that move the Gaussian distribution to the right. I check it with a histogram."
   ]
  },
  {
   "cell_type": "code",
   "execution_count": null,
   "id": "a2c2612b-d41f-4786-b39c-3d4d5711e52a",
   "metadata": {},
   "outputs": [],
   "source": [
    "plt.figure(figsize=(12,5)) #Set chart size\n",
    "sns.histplot(df['price'], bins=100, kde=True, color='purple') # bins to set the width of the bars, kde to draw the distribution line\n",
    "plt.title('Distribution of wine prices') # title\n",
    "plt.xlabel('Prices') # name of axis x\n",
    "plt.ylabel('Number of wines') # name of axis y\n",
    "plt.show()\n"
   ]
  },
  {
   "cell_type": "markdown",
   "id": "dc5d666f-57a2-4cb3-b8dd-029c4ca90f3a",
   "metadata": {},
   "source": [
    "As expected the distribution is concentrated around values <100 and contains outliers up to 3300 which alter the average values. For this kind of data, it is more effective to work on the median. I will go deeper with more advanced charts in the next step.\n",
    "\n",
    "Now for the scores:"
   ]
  },
  {
   "cell_type": "code",
   "execution_count": null,
   "id": "48e50232-c79a-4775-be03-5215bef60040",
   "metadata": {},
   "outputs": [],
   "source": [
    "plt.figure(figsize=(10,4))\n",
    "sns.boxplot(x=df['points'], color='orange')\n",
    "plt.title('Distribution of wine scores')\n",
    "plt.xlabel('Points')\n",
    "plt.show()\n"
   ]
  },
  {
   "cell_type": "markdown",
   "id": "99ff8822-b8a7-46b5-a352-64550b4d2f3c",
   "metadata": {},
   "source": [
    "Scores are spread over values ranging from 80 to 98, with exceptions to 99 and 100.\n",
    "\n",
    "Therefore I assume that this dataset only concerns high quality wines and that I will be able to make a more specific analysis later on about what they are and if there are correlations with their price.\n",
    "\n",
    "I’m now running an analysis on the most reviewed countries"
   ]
  },
  {
   "cell_type": "code",
   "execution_count": null,
   "id": "43a5953b-69d0-4c4e-a088-865069d90b8a",
   "metadata": {},
   "outputs": [],
   "source": [
    "top_countries = df['country'].value_counts().head(5) # Create a list that counts the top 5 countries present\n",
    "\n",
    "plt.figure(figsize=(10,4))\n",
    "sns.barplot(x=top_countries.values, y=top_countries.index, palette=\"viridis\") # Sulle x inserisco il conteggio (value), sulle y i paesi (key)\n",
    "plt.title('Top 5 Countries with more reviews')\n",
    "plt.xlabel('Number of reviews')\n",
    "plt.ylabel('Country')\n",
    "plt.show()\n"
   ]
  },
  {
   "cell_type": "markdown",
   "id": "c8a1d945-0442-4445-8afc-3c8bfd5b9313",
   "metadata": {},
   "source": [
    "The United States is the country with the largest number of wines on the list. It is not certain that they are the most appreciated: this quantitative analysis can be integrated with a qualitative one to observe the correlation between number of reviews and value of the scores.\n",
    "\n",
    "Using a pie chart, I analyse the different varieties:"
   ]
  },
  {
   "cell_type": "code",
   "execution_count": null,
   "id": "acfbd96e-817e-43d2-93bc-57c10415e34b",
   "metadata": {},
   "outputs": [],
   "source": [
    "top_varieties = df['variety'].value_counts().head(10) # I create a list that counts the top 10 varieties present\n",
    "\n",
    "plt.figure(figsize=(7,7)) \n",
    "plt.pie(top_varieties,\n",
    "        labels=top_varieties.index,  # Labels with the names of the varieties\n",
    "        autopct='%1.1f%%',  # Show the percentages with only one decimal place\n",
    "        colors=sns.color_palette(\"Set3\"),\n",
    "        startangle=180,  # Rotate the chart 180° for an aesthetic choice\n",
    "        wedgeprops={'edgecolor': 'black'}  # Insert black border to separate the slices\n",
    ")\n",
    "\n",
    "plt.title(\"Top 10 wine varieties by number of reviews\")\n",
    "plt.show()"
   ]
  },
  {
   "cell_type": "markdown",
   "id": "092c2506-1506-412c-8eb7-3ada547079ff",
   "metadata": {},
   "source": [
    "Now that we have the percentage distribution of the varieties, it may be interesting to see in which areas they are produced for the most part or which wineries have a monopoly on a certain variety.\n"
   ]
  },
  {
   "cell_type": "markdown",
   "id": "a18cac94-097d-449c-878f-3f3b0cfc7bff",
   "metadata": {},
   "source": [
    "## Step 4: Deep Feature Analysis"
   ]
  },
  {
   "cell_type": "markdown",
   "id": "6e2e441e-9e43-42c8-9535-83a30a3d1cb1",
   "metadata": {},
   "source": [
    "I deepen the preliminary analyses carried out previously going to integrate in graphs generated with Plotly, to have greater completeness of data and the possibility of interacting with the graph at points of interest."
   ]
  },
  {
   "cell_type": "code",
   "execution_count": null,
   "id": "26308829-ac0a-461b-acae-90649cb7a310",
   "metadata": {},
   "outputs": [],
   "source": [
    "# 1. Distribution of prices"
   ]
  },
  {
   "cell_type": "code",
   "execution_count": null,
   "id": "05b93481-2f57-4b03-b0d5-64b08ba76f42",
   "metadata": {},
   "outputs": [],
   "source": [
    "fig = px.histogram(df, x='price', \n",
    "                   nbins=500, # Density of each bar\n",
    "                   color_discrete_sequence=['orange'], \n",
    "                   marginal='box', # I generate a box above the chart that acts as a scatter to interact with each wine\n",
    "                   hover_data=['title', 'variety', 'country'] # Allows you to view the output at mouse-over\n",
    ")\n",
    "\n",
    "fig.update_layout(title='Distribution of wine prices', \n",
    "                  xaxis_title='Price', \n",
    "                  yaxis_title='Frequence')\n",
    "\n",
    "# Draw midline\n",
    "fig.add_shape(type='line', \n",
    "              x0=df['price'].median(), x1=df['price'].median(), \n",
    "              y0=0, y1=40000, \n",
    "              line=dict(color='black', dash='dash', width = 3))\n",
    "\n",
    "fig.show()"
   ]
  },
  {
   "cell_type": "markdown",
   "id": "37a779e9-e2a1-48b7-af8e-632b27de283d",
   "metadata": {},
   "source": [
    "It is now possible to zoom the graph in the area of greater concentration, but at the same time be able to correctly display the outliers that move the average to the right. The median value plotted in black is positioned on the area of higher concentration going to verify the hypothesis of greater reliability."
   ]
  },
  {
   "cell_type": "code",
   "execution_count": null,
   "id": "f48ef1e3-0281-40b8-92a4-ebd4195f85c3",
   "metadata": {},
   "outputs": [],
   "source": [
    "# 2. Distribution of scores"
   ]
  },
  {
   "cell_type": "code",
   "execution_count": null,
   "id": "5807531f-f052-4eb7-81c8-e8bdeb7b6aa7",
   "metadata": {},
   "outputs": [],
   "source": [
    "import re\n",
    "\n",
    "# Extraction of the vintage from the \"title\" column\n",
    "def extract_year(title):\n",
    "    years = re.findall(r'\\b(19[0-9]{2}|20[0-2][0-9])\\b', title) #Find all the years from 1900 to 2029 in the title\n",
    "    return int(years[0]) if years else None # Returns the first year found as integer, otherwise None\n",
    "\n",
    "df[\"year\"] = df[\"title\"].apply(extract_year) # Apply the function to the \"title\" column and create a new \"year\" column\n",
    "df_year = df.dropna(subset=[\"year\"]) # Remove the lines where \"year\" is NaN\n",
    "\n",
    "\n",
    "top_years = df_year[\"year\"].value_counts().nlargest(10).index # Select only the 10 most reviewed vintages\n",
    "df_year_filtered = df_year[df_year[\"year\"].isin(top_years)].sort_values(\"year\") # Filter the df to include only these 10 years, and I order them\n",
    "\n",
    "\n",
    "# Creation of the chart\n",
    "fig = px.scatter(\n",
    "    df_year_filtered, x=\"price\", y=\"points\", \n",
    "    facet_col=\"year\",  # Divide the charts by year\n",
    "    hover_data=[\"winery\",\"title\"],  \n",
    "    title=\"Distribuzione Punteggio-Prezzo per le 10 annate più rappresentate\",\n",
    "    labels={\"price\": \"Prezzo\", \"points\": \"Punteggio\", \"year\": \"Anno\", \"winery\": \"Cantina\", \"title\": \"Vino\"},\n",
    "    color_discrete_sequence=[\"purple\"],\n",
    "    opacity=0.5\n",
    ")\n",
    "\n",
    "# I remove the symbol \"=\" in facet_columns and transform the values \"year\" into whole numbers\n",
    "fig.for_each_annotation(lambda a: a.update(text=str(int(float(a.text.split(\"=\")[-1])))))\n",
    "\n",
    "fig.show()"
   ]
  },
  {
   "cell_type": "markdown",
   "id": "8700d268-7b11-4dfb-a42b-4dd2e73e2b76",
   "metadata": {},
   "source": [
    "This scatter plot shows a strong presence of wines with score >=90 and at the same time shows a not excessive correlation with the price. We see that, for example, the most expensive wine on the whole list, produced in 2013, is well below other wines much cheaper but with putteggi also equal to 100. By analysing a heatmap of the correlation between these two parameters:"
   ]
  },
  {
   "cell_type": "code",
   "execution_count": null,
   "id": "c630b9c7-4907-4dd1-a7b7-b77645138df0",
   "metadata": {},
   "outputs": [],
   "source": [
    "df_corr = df[['points','price']].dropna().corr()\n",
    "sns.heatmap(df_corr, annot=True)\n",
    "plt.show()"
   ]
  },
  {
   "cell_type": "markdown",
   "id": "ac8b5ddc-33f0-4059-a76d-225f4fae1525",
   "metadata": {},
   "source": [
    "It is clear that, although present with a value of 0.4, the correlation between price and score increase is very slight and not always consequential."
   ]
  },
  {
   "cell_type": "code",
   "execution_count": null,
   "id": "0ae6defa-4546-45d8-971f-5b721039fbff",
   "metadata": {},
   "outputs": [],
   "source": [
    "# 3. Scatter reviews vs average score by country"
   ]
  },
  {
   "cell_type": "code",
   "execution_count": null,
   "id": "0186db88-822f-466c-ad54-ccf88309f66c",
   "metadata": {},
   "outputs": [],
   "source": [
    "df_country = df.groupby('country') \\\n",
    "               .agg({'points': 'mean', 'country': 'size'}) \\\n",
    "               .rename(columns={'country': 'count'}) \\\n",
    "               .reset_index()\n",
    "\n",
    "fig = px.scatter(df_country, x='count', y='points', \n",
    "                 size='count',\n",
    "                 size_max = 100,\n",
    "                 color='points', \n",
    "                 hover_name='country', \n",
    "                 color_continuous_scale='Viridis')\n",
    "\n",
    "fig.update_layout(title='Correlation between reviews and average scores by country', \n",
    "                  xaxis_title='Number of reviews', \n",
    "                  yaxis_title='Average score')\n",
    "\n",
    "fig.show()"
   ]
  },
  {
   "cell_type": "markdown",
   "id": "f287b4f5-3110-4c47-aa13-97c07359df96",
   "metadata": {},
   "source": [
    "This chart shows substantial differences between the quantity of reviews and the quality of the latter: although the USA is by far the most present country on the list, its wines have lower scores than those of other 6 minor countries. Austria is the country with the highest average score and the only one to reach a value of 90 points, despite the reduced presence of wines in the catalog compared to USA, France, Italy. It is interesting to see how countries with very few wines in the catalogue, such as Hungary, Canada, Switzerland or Luxembourg, have very high scores confirming the relationship between quantity of reviews and product quality.\n",
    "\n",
    "Another interesting chart could be a multi-layered pie chart that shows the distribution by price first for countries and then more specifically for provinces. It would be possible to insert an additional third layer with also the region of interest, but the chart becomes very dense and illegible."
   ]
  },
  {
   "cell_type": "code",
   "execution_count": null,
   "id": "0a0675ef-abe3-4ce8-aae3-9d5e1c793507",
   "metadata": {},
   "outputs": [],
   "source": [
    "fig = px.sunburst(df, path = ['country', 'province'], values = 'price',\n",
    "                 title = 'Distribution prices by state and province')\n",
    "fig.show()"
   ]
  },
  {
   "cell_type": "code",
   "execution_count": null,
   "id": "dc298280-8f75-407a-a067-6479e744acdd",
   "metadata": {},
   "outputs": [],
   "source": [
    "# 4. Distribution of varieties"
   ]
  },
  {
   "cell_type": "code",
   "execution_count": null,
   "id": "17cb06f3-76c5-48eb-b965-4b53c6b2a839",
   "metadata": {},
   "outputs": [],
   "source": [
    "# Filter data to exclude any \"unknown\" provinces\n",
    "df_filtered = df[df['province'] != 'Unknown']\n",
    "\n",
    "# Calculation of the number of varieties by province\n",
    "region_variety_counts = df_filtered.groupby(['province', 'variety']).size().reset_index(name='counts')\n",
    "\n",
    "# Calculation of total wines by province\n",
    "region_counts = df_filtered['province'].value_counts().reset_index()\n",
    "region_counts.columns = ['province', 'total_counts']\n",
    "\n",
    "# Selection and filter of the top 10 provinces\n",
    "top_10_regions = region_counts.head(10)['province']\n",
    "region_variety_counts_top_10 = region_variety_counts[region_variety_counts['province'].isin(top_10_regions)]\n",
    "\n",
    "fig = px.bar(region_variety_counts_top_10, x='province', y='counts', color='variety', \n",
    "              title='Distribution of varieties for the top 10 provinces',\n",
    "              labels={'variety': 'Variety','province': 'Province', 'counts': 'Number of Wines'})\n",
    "fig.show()"
   ]
  },
  {
   "cell_type": "markdown",
   "id": "66ea1f57-ed3c-4cc5-8479-ae5a15ea460e",
   "metadata": {},
   "source": [
    "Globally, California is the province that produces the most wines, more than three times as many as the first contender. The predominant varieties previously observed, Pinot Noir and Chardonnay, represent the two main varieties produced in California. The production of Chardonnay californian alone exceeds the entire wine list of Tuscany, Bordeaux and Oregon, provinces in the top 5 world producers. Along with the province of Washington, California is also proving to be one of the most versatile in terms of variety.\n",
    "\n",
    "I now observe the relationship between variety and average score:"
   ]
  },
  {
   "cell_type": "code",
   "execution_count": null,
   "id": "33020abb-379a-4e0f-8175-5cd8a842f104",
   "metadata": {},
   "outputs": [],
   "source": [
    "# Calculate the average score for each variety\n",
    "variety_scores = df.groupby('variety')['points'].mean().reset_index()\n",
    "variety_scores.columns = ['variety', 'average_points']\n",
    "\n",
    "# Sort by average score\n",
    "variety_scores = variety_scores.sort_values(\"average_points\")\n",
    "\n",
    "fig = px.line(variety_scores, x='variety', y='average_points', template='seaborn',\n",
    "              labels={'variety': 'Varietà', 'average_points': 'Punteggio Medio'},\n",
    "              title='Average score for wine varieties',\n",
    "              hover_data={'average_points': True})\n",
    "fig.show()"
   ]
  },
  {
   "cell_type": "markdown",
   "id": "2257ad8f-1607-4cca-8b6e-523e537afc32",
   "metadata": {},
   "source": [
    "The line chart confirms average scores above 80 but maximum score 95, therefore no winery can produce only wines with score = 100. By interacting with the graph, you can see the average score for each variety.\n",
    "\n",
    "I will conclude by observing which wineries are the most important in terms of average score and the respective varieties produced:"
   ]
  },
  {
   "cell_type": "code",
   "execution_count": null,
   "id": "dea6442e-7a16-45bb-a2ad-ed8f15a33f9d",
   "metadata": {},
   "outputs": [],
   "source": [
    "# Calculate the average score for each winery\n",
    "winery_scores = df.groupby('winery')['points'].mean().reset_index()\n",
    "winery_scores.columns = ['winery', 'average_points']\n",
    "\n",
    "# I select the 5 best\n",
    "top_5_wineries = winery_scores.nlargest(5, 'average_points')['winery']\n",
    "\n",
    "# Filter the original df to include only the top 5\n",
    "df_top_5_wineries = df[df['winery'].isin(top_5_wineries)]\n",
    "\n",
    "# Calculate the percentage of varieties of wines produced for these wineries\n",
    "variety_counts = df_top_5_wineries.groupby(['winery', 'variety']).size().reset_index(name='counts') # How many wines of each variety are produced by each winery\n",
    "total_counts = df_top_5_wineries.groupby('winery').size().reset_index(name='total_counts') # How many total wines each winery produces\n",
    "variety_counts = pd.merge(variety_counts, total_counts, on='winery') # Combine the two dataframes \n",
    "variety_counts['percentage'] = (variety_counts['counts'] / variety_counts['total_counts']) * 100 # Calculate the percentage \n",
    "\n",
    "# I add the average scores to df variety_counts\n",
    "variety_counts = pd.merge(variety_counts, winery_scores, on='winery')\n",
    "\n",
    "fig = px.bar(variety_counts, x='average_points', y='winery', color='variety', \n",
    "             title='Punteggio medio delle 5 migliori cantine & rispettive varietà',\n",
    "             labels={'winery': 'Cantina', 'average_points': 'Punteggio Medio Totale', 'variety': 'Varietà'},\n",
    "             )\n",
    "\n",
    "fig.update_layout(\n",
    "    bargap=0.2,       \n",
    "    bargroupgap=0.3,  \n",
    "    width=1100,\n",
    "    height=500\n",
    ")\n",
    "\n",
    "fig.show()"
   ]
  },
  {
   "cell_type": "markdown",
   "id": "fc2fc605-3044-4067-a142-fa8908598eee",
   "metadata": {},
   "source": [
    "It can be seen that the 5 best wineries all have very high average scores and similar to each other even though the Araujo winery is in first place for 1 point. Each of these 5 wineries specialises in a single wine variety. Cabernet Sauvignon is a variety produced by both the first and second of the list."
   ]
  }
 ],
 "metadata": {
  "kernelspec": {
   "display_name": "Python [conda env:base] *",
   "language": "python",
   "name": "conda-base-py"
  },
  "language_info": {
   "codemirror_mode": {
    "name": "ipython",
    "version": 3
   },
   "file_extension": ".py",
   "mimetype": "text/x-python",
   "name": "python",
   "nbconvert_exporter": "python",
   "pygments_lexer": "ipython3",
   "version": "3.12.2"
  }
 },
 "nbformat": 4,
 "nbformat_minor": 5
}
