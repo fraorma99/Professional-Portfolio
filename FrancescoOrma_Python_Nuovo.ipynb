{
 "cells": [
  {
   "cell_type": "markdown",
   "id": "1259b751-56c6-48ce-9caa-3f231d73309e",
   "metadata": {},
   "source": [
    "## INTRODUZIONE"
   ]
  },
  {
   "cell_type": "markdown",
   "id": "4e2fe085-0be7-404a-82a7-bc1c276afc5f",
   "metadata": {},
   "source": [
    "Il seguente SGE colleziona elementi in un catalogo moda. Il catalogo viene popolato tramite 3 funzioni principali: aggiunta, modifica e rimozione degli elementi. \n",
    "Il catalogo permette inoltre, mediante altre 3 funzioni di visualizzazione, ricerca e distribuzione, di ottenere insights sui componenti presenti all'interno del catalogo, filtrarli e visualizzarne alcune statistiche.\n",
    "Sono state implementate inoltre due funzioni di validazione input per prevenire l'inserimento di dati errati o malformati.\n"
   ]
  },
  {
   "cell_type": "markdown",
   "id": "173982ad-f83b-4377-ba92-80db1c51a954",
   "metadata": {},
   "source": [
    "L'interazione con l'utente si basa su un menu che permette di richiamare le diverse funzioni digitandone il numero di interesse. Ogni qualvolta che l'interazione termina, si viene riportati nuovamente al menu per poter continuare ad effettuare modifiche o visualizzare insights del catalogo. Nel menu è quindi presente un opzione per uscire dal menu al termine del lavoro."
   ]
  },
  {
   "cell_type": "markdown",
   "id": "3d46f16e-2be5-4ff3-8461-1ea95fb5465e",
   "metadata": {},
   "source": [
    "Per un corretto utilizzo, eseguire tutte le celle dall'alto verso il basso per non incorrere in errori di sistema durante l'ultimo step di avvio del medesimo. Qualora il pulsante menu() non funzionasse, basterà utilizzare \"Restart Kernel\" dalla barra strumenti in alto per ripristinare l'esecuzione del programma. Si richiede il popolamento del catalogo di almeno 3 elementi per poterne verificare correttamente il funzionamento. Tuttavia è consigliabile aumentare tale numero in quanto un catologo più ricco di elementi consentirà di stressare meglio il sistema e visualizzare insights più interessanti."
   ]
  },
  {
   "cell_type": "markdown",
   "id": "a018896e-5af5-4d09-8f2c-61354cc36244",
   "metadata": {},
   "source": [
    "**Setup e funzioni di input per validazione**"
   ]
  },
  {
   "cell_type": "code",
   "execution_count": 6,
   "id": "19994899-aac2-4c18-989b-1d80a9ba9df6",
   "metadata": {},
   "outputs": [],
   "source": [
    "# Importo Counter per ottenere statistiche che mi serviranno sulla distribuzione dei prodotti\n",
    "from collections import Counter \n",
    "\n",
    "\n",
    "# Genero lista per memorizzare gli elementi del catalogo\n",
    "catalogo_moda = [] \n",
    "\n",
    "\n",
    "# Funzione per ottenere un input testuale valido (non vuoto) dall'utente\n",
    "def input_testo(messaggio):\n",
    "    \n",
    "    valore = input(messaggio).strip()  # Chiede un input e rimuove eventuali spazi all'inizio e alla fine\n",
    "    while not valore:  # Continua a chiedere finché l'utente non inserisce un testo non vuoto\n",
    "        print(\"Errore: il campo non può essere vuoto.\")  \n",
    "        valore = input(messaggio).strip()  # Richiede nuovamente l'input\n",
    "    return valore  # Restituisce il valore valido inserito\n",
    "\n",
    "\n",
    "# Funzione per ottenere un numero valido (float) dall'utente\n",
    "def input_numero(messaggio):\n",
    "    \n",
    "    valore = input(messaggio).strip()  # Richiede un input e rimuove eventuali spazi\n",
    "    while not valore.replace('.', '', 1).isdigit():  # Controlla se è un numero valido (compresi i decimali)\n",
    "        print(\"Errore: inserisci un numero valido.\")  \n",
    "        valore = input(messaggio).strip()  # Richiede nuovamente l'input\n",
    "    return float(valore)  # Converte il valore in float e lo restituisce\n"
   ]
  },
  {
   "cell_type": "markdown",
   "id": "12989322-6fe2-4f1e-8715-a29892973930",
   "metadata": {},
   "source": [
    "**Funzioni di aggiornamento del catalogo**"
   ]
  },
  {
   "cell_type": "code",
   "execution_count": 9,
   "id": "ac1b36f8-8b2e-4d9f-85f1-69b0955b9f52",
   "metadata": {},
   "outputs": [],
   "source": [
    "# Funzione per aggiungere un nuovo prodotto al catalogo\n",
    "def aggiungi_prodotto():\n",
    "    \n",
    "    # Chiede all'utente di inserire i dettagli del prodotto\n",
    "    nome = input_testo(\"Inserisci il nome del prodotto: \")  \n",
    "    prezzo = input_numero(\"Inserisci il prezzo del prodotto: \")  \n",
    "    taglia = input_testo(\"Inserisci la taglia del prodotto: \")  \n",
    "    colore = input_testo(\"Inserisci il colore del prodotto: \")  \n",
    "    materiale = input_testo(\"Inserisci il materiale del prodotto: \")  \n",
    "    \n",
    "    # Crea un dizionario con i dettagli del prodotto\n",
    "    prodotto = {\"nome\": nome, \"prezzo\": prezzo, \"taglia\": taglia, \"colore\": colore, \"materiale\": materiale}\n",
    "    \n",
    "    # Aggiunge il prodotto alla lista globale catalogo_moda\n",
    "    catalogo_moda.append(prodotto)  \n",
    "    \n",
    "    print(f\"Prodotto '{nome}' aggiunto con successo!\\n\")  # Messaggio di conferma\n",
    "    print()\n",
    "\n",
    "\n",
    "# Funzione per rimuovere un prodotto dal catalogo\n",
    "def rimuovi_prodotto():\n",
    "    \n",
    "    nome = input_testo(\"Inserisci il nome del prodotto da rimuovere: \")  # Chiede il nome del prodotto da eliminare\n",
    "    \n",
    "    global catalogo_moda  # Dichiarazione di variabile globale per modificarla\n",
    "    catalogo_moda = [prod for prod in catalogo_moda if prod[\"nome\"] != nome]  # Filtra i prodotti, escludendo quello scelto\n",
    "    \n",
    "    print(f\"Prodotto '{nome}' rimosso con successo!\\n\")  # Messaggio di conferma\n",
    "    print()\n",
    "\n",
    "# Funzione per modificare i dettagli di un prodotto esistente\n",
    "def modifica_prodotto():\n",
    "\n",
    "    nome = input_testo(\"Inserisci il nome del prodotto da modificare: \")  # Chiede il nome del prodotto da modificare\n",
    "    \n",
    "    # Cerca il prodotto nel catalogo\n",
    "    for prod in catalogo_moda:\n",
    "        if prod[\"nome\"] == nome:  \n",
    "            # Mostra le opzioni di modifica\n",
    "            print(\"Quale caratteristica vuoi modificare?\")\n",
    "            print(\"1. Prezzo\")\n",
    "            print(\"2. Taglia\")\n",
    "            print(\"3. Colore\")\n",
    "            print(\"4. Materiale\")\n",
    "            \n",
    "            scelta = input_testo(\"Scegli un'opzione selezionando il numero: \")  # Chiede all'utente cosa vuole modificare\n",
    "            \n",
    "            # Modifica la caratteristica selezionata\n",
    "            if scelta == \"1\":\n",
    "                prod[\"prezzo\"] = input_numero(f\"Nuovo prezzo (attualmente è {prod['prezzo']}€): \")\n",
    "            elif scelta == \"2\":\n",
    "                prod[\"taglia\"] = input_testo(f\"Nuova taglia (attualmente è {prod['taglia']}): \")\n",
    "            elif scelta == \"3\":\n",
    "                prod[\"colore\"] = input_testo(f\"Nuovo colore (attualmente è {prod['colore']}): \")\n",
    "            elif scelta == \"4\":\n",
    "                prod[\"materiale\"] = input_testo(f\"Nuovo materiale (attualmente è {prod['materiale']}): \")\n",
    "            else:\n",
    "                print(\"Scelta non valida.\")  # Se la scelta è errata, esce senza modificare nulla\n",
    "                return\n",
    "            \n",
    "            print(f\"Prodotto '{nome}' modificato con successo!\\n\")  # Messaggio di conferma\n",
    "            print()\n",
    "            return\n",
    "    \n",
    "    print(f\"Prodotto '{nome}' non trovato.\\n\")  # Messaggio se il prodotto non è stato trovato\n",
    "    print()\n"
   ]
  },
  {
   "cell_type": "markdown",
   "id": "8601cb79-0a55-4de8-8b26-e564ac1e5087",
   "metadata": {},
   "source": [
    "**Funzioni di ricerca e statistiche**"
   ]
  },
  {
   "cell_type": "code",
   "execution_count": 12,
   "id": "28ad71c8-5909-4d0e-80a9-d59cfe06e903",
   "metadata": {},
   "outputs": [],
   "source": [
    "# Funzione per visualizzare tutti i prodotti registrati nel catalogo\n",
    "def visualizza_prodotti():\n",
    "    \n",
    "    if not catalogo_moda:  # Se la lista è vuota, mostra un messaggio\n",
    "        print(\"Nessun prodotto presente nel catalogo.\\n\")\n",
    "        print()\n",
    "    else:\n",
    "        print(\"Elenco prodotti registrati:\")\n",
    "        for i, prod in enumerate(catalogo_moda, 1):  # Itera sui prodotti e li stampa in ordine numerato\n",
    "            print(f\"{i}. Nome: {prod['nome']}, Prezzo: {prod['prezzo']}€, Taglia: {prod['taglia']}, Colore: {prod['colore']}, Materiale: {prod['materiale']}\")\n",
    "        print()\n",
    "    print()\n",
    "\n",
    "# Funzione per cercare prodotti in base a un criterio specifico scelto dall'utente\n",
    "def cerca_prodotto():\n",
    "    \n",
    "    # Chiede all'utente quale attributo vuole usare per la ricerca\n",
    "    categoria = input_testo(\"Inserisci la categoria di ricerca (nome, prezzo, taglia, colore, materiale): \")\n",
    "    \n",
    "    # Verifica che l'attributo inserito sia valido\n",
    "    if categoria not in [\"nome\", \"prezzo\", \"taglia\", \"colore\", \"materiale\"]:\n",
    "        print(\"Categoria non valida.\\n\")  # Se non è valido, mostra un errore e interrompe la funzione\n",
    "        return\n",
    "    \n",
    "    # Se la ricerca è per prezzo, usa input_numero, altrimenti usa input_testo\n",
    "    if categoria == \"prezzo\":\n",
    "        valore = input_numero(\"Inserisci il valore da cercare: \")\n",
    "    else:\n",
    "        valore = input_testo(\"Inserisci il valore da cercare: \")\n",
    "    \n",
    "    # Filtra i prodotti nel catalogo che corrispondono al criterio di ricerca\n",
    "    risultati = [prod for prod in catalogo_moda if prod[categoria] == valore]\n",
    "    \n",
    "    # Se ci sono risultati, li stampa\n",
    "    if risultati:\n",
    "        print(\"Prodotti trovati:\")\n",
    "        for prod in risultati:\n",
    "            print(f\"Nome: {prod['nome']}, Prezzo: {prod['prezzo']}€, Taglia: {prod['taglia']}, Colore: {prod['colore']}, Materiale: {prod['materiale']}\")\n",
    "            print()\n",
    "    else:\n",
    "        print(\"Nessun prodotto trovato con il criterio specificato.\\n\")  # Se non trova nulla, lo comunica all'utente\n",
    "        print()\n",
    "\n",
    "\n",
    "# Funzione per generare varie statistiche sui prodotti\n",
    "def distribuzione_prodotti():\n",
    "    \n",
    "    print(f\"Totale prodotti registrati: {len(catalogo_moda)}\")  # Conta il numero totale di prodotti\n",
    "    \n",
    "    if catalogo_moda:  # Se ci sono prodotti, calcola statistiche\n",
    "        prezzi = [prod['prezzo'] for prod in catalogo_moda]  # Estrae tutti i prezzi\n",
    "        \n",
    "        # Conta la frequenza di ogni prezzo, colore e materiale\n",
    "        prezzi_contati = Counter(prezzi)  \n",
    "        colori_contati = Counter(prod['colore'] for prod in catalogo_moda)  \n",
    "        materiali_contati = Counter(prod['materiale'] for prod in catalogo_moda)  \n",
    "        \n",
    "        # Stampa la distribuzione dei prezzi\n",
    "        print(\"Distribuzione per prezzo:\")\n",
    "        for prezzo, count in prezzi_contati.items():\n",
    "            print(f\"- {prezzo}€: {count} prodotti\")\n",
    "        \n",
    "        # Stampa statistiche sui prezzi\n",
    "        print(f\"Prodotto più costoso: {max(prezzi)}€\")\n",
    "        print(f\"Prodotto meno costoso: {min(prezzi)}€\")\n",
    "        print(f\"Prezzo medio: {sum(prezzi) / len(prezzi):.2f}€\")\n",
    "        \n",
    "        # Stampa il colore e il materiale più comuni\n",
    "        print(\"Colore più comune:\", colori_contati.most_common(1))\n",
    "        print(\"Materiale più usato:\", materiali_contati.most_common(1))\n",
    "    print()"
   ]
  },
  {
   "cell_type": "markdown",
   "id": "8a516ca1-5dfe-4152-ae1a-d61e47c46a8a",
   "metadata": {},
   "source": [
    "**Menu interattivo**"
   ]
  },
  {
   "cell_type": "code",
   "execution_count": 15,
   "id": "1f52d289-37f0-4719-a0ae-b834d46d8302",
   "metadata": {},
   "outputs": [],
   "source": [
    "# Funzione per mostrare un menu interattivo per l'utente\n",
    "def menu():\n",
    "    \n",
    "    while True:\n",
    "        print(\"\\n--- Catalogo Moda ---\")\n",
    "        print(\"1. Aggiungi prodotto\")\n",
    "        print(\"2. Rimuovi prodotto\")\n",
    "        print(\"3. Modifica prodotto\")\n",
    "        print(\"4. Visualizza prodotti\")\n",
    "        print(\"5. Cerca prodotto\")\n",
    "        print(\"6. Mostra statistiche\")\n",
    "        print(\"7. Esci\")\n",
    "        scelta = input(\"Scegli un'opzione: \") # Chiede all'utente un'opzione\n",
    "        \n",
    "        if scelta == \"1\":\n",
    "            aggiungi_prodotto()\n",
    "        elif scelta == \"2\":\n",
    "            rimuovi_prodotto()\n",
    "        elif scelta == \"3\":\n",
    "            modifica_prodotto()\n",
    "        elif scelta == \"4\":\n",
    "            visualizza_prodotti()\n",
    "        elif scelta == \"5\":\n",
    "            cerca_prodotto()\n",
    "        elif scelta == \"6\":\n",
    "            distribuzione_prodotti()\n",
    "        elif scelta == \"7\":\n",
    "            print(\"Uscita dal programma.\") # Esce dal ciclo e termina il programma\n",
    "            break\n",
    "        else:\n",
    "            print(\"Scelta non valida. Riprova.\\n\") # Messaggio di errore per scelta errata\n"
   ]
  },
  {
   "cell_type": "markdown",
   "id": "f3073d44-044d-4361-ba01-ebf6eee12ad4",
   "metadata": {},
   "source": [
    "**Avvio del programma**"
   ]
  },
  {
   "cell_type": "code",
   "execution_count": null,
   "id": "62edcb63-af9c-4210-b50d-bcb59a5d89c8",
   "metadata": {},
   "outputs": [],
   "source": [
    "menu()"
   ]
  }
 ],
 "metadata": {
  "kernelspec": {
   "display_name": "Python [conda env:base] *",
   "language": "python",
   "name": "conda-base-py"
  },
  "language_info": {
   "codemirror_mode": {
    "name": "ipython",
    "version": 3
   },
   "file_extension": ".py",
   "mimetype": "text/x-python",
   "name": "python",
   "nbconvert_exporter": "python",
   "pygments_lexer": "ipython3",
   "version": "3.12.2"
  }
 },
 "nbformat": 4,
 "nbformat_minor": 5
}
