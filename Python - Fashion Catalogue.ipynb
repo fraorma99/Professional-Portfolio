{
 "cells": [
  {
   "cell_type": "markdown",
   "id": "1259b751-56c6-48ce-9caa-3f231d73309e",
   "metadata": {},
   "source": [
    "## INTRODUCTION"
   ]
  },
  {
   "cell_type": "markdown",
   "id": "12e8432c-06fd-4646-be8d-8677c384a3c4",
   "metadata": {},
   "source": [
    "The project was developed on Jupyter Notebook."
   ]
  },
  {
   "cell_type": "markdown",
   "id": "4e2fe085-0be7-404a-82a7-bc1c276afc5f",
   "metadata": {},
   "source": [
    "The following SGE collects items in a fashion catalogue. The catalogue is populated by 3 main functions: adding, editing and removing items. \n",
    "The catalogue also allows, through 3 other functions of visualization, search and distribution, to obtain insights on the components present within the catalogue, filter them and view some statistics.\n",
    "In addition, two input validation functions have been implemented to prevent the entry of incorrect or malformed data.\n"
   ]
  },
  {
   "cell_type": "markdown",
   "id": "173982ad-f83b-4377-ba92-80db1c51a954",
   "metadata": {},
   "source": [
    "The interaction with the user is based on a menu that allows to call up the different functions by typing the number of interest. Whenever the interaction ends, you are brought back to the menu to continue making changes or view catalogue insights. There is an option in the menu to exit the menu at the end of the job."
   ]
  },
  {
   "cell_type": "markdown",
   "id": "3d46f16e-2be5-4ff3-8461-1ea95fb5465e",
   "metadata": {},
   "source": [
    "For proper use, run all cells from top to bottom so that you do not incur system errors during the last boot step. If the menu() button does not work, just use \"Restart Kernel\" from the toolbar at the top to restore the program. It is necessary to fill the catalogue with at least 3 elements in order to verify its correct functioning. However, it is advisable to increase this number because a more rich catalogue of elements will better stress the system and display more interesting insights."
   ]
  },
  {
   "cell_type": "markdown",
   "id": "a018896e-5af5-4d09-8f2c-61354cc36244",
   "metadata": {},
   "source": [
    "**Setup and input functions for validation**"
   ]
  },
  {
   "cell_type": "code",
   "execution_count": 7,
   "id": "19994899-aac2-4c18-989b-1d80a9ba9df6",
   "metadata": {},
   "outputs": [],
   "source": [
    "# I use Counter to get statistics that I will need on product distribution\n",
    "from collections import Counter \n",
    "\n",
    "\n",
    "# I generate a list to store catalogue items\n",
    "fashion_catalogue = [] \n",
    "\n",
    "\n",
    "# Function to get a valid (not empty) text input from the user\n",
    "def input_text(message):\n",
    "    \n",
    "    value = input(message).strip()  # Asks for input and removes any spaces at the beginning and at the end\n",
    "    while not value:  # Keeps asking until the user enters a non-blank text\n",
    "        print(\"Error: the field cannot be empty.\")  \n",
    "        value = input(message).strip()  # Requires input again\n",
    "    return value  # Returns the valid value entered\n",
    "\n",
    "\n",
    "# Function to obtain a valid number (float) from the user\n",
    "def input_number(message):\n",
    "    \n",
    "    value = input(message).strip()  # Requires input and removes any spaces\n",
    "    while not value.replace('.', '', 1).isdigit():  # Check if it is a valid number (including decimals)\n",
    "        print(\"Error: enter a valid number.\")  \n",
    "        value = input(message).strip()  # Requires input again\n",
    "    return float(value)  # Converts the value to float and returns it\n"
   ]
  },
  {
   "cell_type": "markdown",
   "id": "12989322-6fe2-4f1e-8715-a29892973930",
   "metadata": {},
   "source": [
    "**Catalogue update functions**"
   ]
  },
  {
   "cell_type": "code",
   "execution_count": 9,
   "id": "ac1b36f8-8b2e-4d9f-85f1-69b0955b9f52",
   "metadata": {},
   "outputs": [],
   "source": [
    "# Function to add a new product to the catalogue\n",
    "def add_product():\n",
    "    \n",
    "    # Asks the user to enter product details\n",
    "    name = input_text(\"Enter product name: \")  \n",
    "    price = input_number(\"Enter product price: \")  \n",
    "    size = input_text(\"Enter product size: \")  \n",
    "    color = input_text(\"Enter product color: \")  \n",
    "    material = input_text(\"Enter product material: \")  \n",
    "    \n",
    "    # Creates a dictionary with product details\n",
    "    product = {\"name\": name, \"price\": price, \"size\": size, \"color\": color, \"material\": material}\n",
    "    \n",
    "    # Adds the product to the global catalogue list_fashion\n",
    "    fashion_catalogue.append(product)  \n",
    "    \n",
    "    print(f\"Product '{name}' added successfully!\\n\")  # Confirm message\n",
    "    print()\n",
    "\n",
    "\n",
    "# Function to remove a product from the catalogue\n",
    "def remove_product():\n",
    "    \n",
    "    name = input_text(\"Enter the name of the product to remove: \")  # Asks for the name of the product to be deleted\n",
    "    \n",
    "    global fashion_catalogue  # Global variable declaration to modify it\n",
    "    fashion_catalogue = [prod for prod in fashion_catalogue if prod[\"name\"] != name]  # Filters the products, excluding the chosen one\n",
    "    \n",
    "    print(f\"Product '{name}' removed successfully\\n\")  # Confirm message\n",
    "    print()\n",
    "\n",
    "# Function to edit the details of an existing product\n",
    "def edit_product():\n",
    "\n",
    "    name = input_text(\"Enter the name of the product to edit: \")  # Asks for the name of the product to be changed\n",
    "    \n",
    "    # Searches the product in the catalogue\n",
    "    for prod in fashion_catalogue:\n",
    "        if prod[\"name\"] == name:  \n",
    "            # Shows the editing options\n",
    "            print(\"Which feature do you want to edit?\")\n",
    "            print(\"1. Price\")\n",
    "            print(\"2. Size\")\n",
    "            print(\"3. Color\")\n",
    "            print(\"4. Material\")\n",
    "            \n",
    "            choise = input_text(\"Choose an option by selecting the number: \")  # Asks the user what they want to change\n",
    "            \n",
    "            # Edits the selected feature\n",
    "            if choise == \"1\":\n",
    "                prod[\"price\"] = input_number(f\"New price (now it's {prod['price']}€): \")\n",
    "            elif choise == \"2\":\n",
    "                prod[\"size\"] = input_text(f\"New size (now it's {prod['size']}): \")\n",
    "            elif choise == \"3\":\n",
    "                prod[\"color\"] = input_text(f\"New color (now it's {prod['color']}): \")\n",
    "            elif choise == \"4\":\n",
    "                prod[\"material\"] = input_text(f\"New material (now it's {prod['material']}): \")\n",
    "            else:\n",
    "                print(\"Invalid choice.\")  # If the choice is wrong, it quits without changing anything\n",
    "                return\n",
    "            \n",
    "            print(f\"Product '{name}' successfully modified!\\n\")  # Confirm message\n",
    "            print()\n",
    "            return\n",
    "    \n",
    "    print(f\"Product '{name}' not found.\\n\")  # Message if the product was not found\n",
    "    print()\n"
   ]
  },
  {
   "cell_type": "markdown",
   "id": "8601cb79-0a55-4de8-8b26-e564ac1e5087",
   "metadata": {},
   "source": [
    "**Search functions and statistics**"
   ]
  },
  {
   "cell_type": "code",
   "execution_count": 11,
   "id": "28ad71c8-5909-4d0e-80a9-d59cfe06e903",
   "metadata": {},
   "outputs": [],
   "source": [
    "# Function to display all registered products in the catalogue\n",
    "def show_product():\n",
    "    \n",
    "    if not fashion_catalogue:  # If the list is empty, displays a message\n",
    "        print(\"No products in the catalogue.\\n\")\n",
    "        print()\n",
    "    else:\n",
    "        print(\"List of registered products:\")\n",
    "        for i, prod in enumerate(fashion_catalogue, 1):  # Iters on products and print them in numbered order\n",
    "            print(f\"{i}.Name: {prod['name']}, Price: {prod['price']}€, Size: {prod['size']}, Color: {prod['color']}, Material: {prod['material']}\")\n",
    "        print()\n",
    "    print()\n",
    "\n",
    "# Function to search for products based on a specific criteria chosen by the user\n",
    "def search_product():\n",
    "    \n",
    "    # Asks the user which attribute they want to use for searching\n",
    "    category = input_text(\"Enter the search category (name, price, size, color, material): \")\n",
    "    \n",
    "    # Verifies that the entered attribute is valid\n",
    "    if category not in [\"name\", \"price\", \"size\", \"color\", \"material\"]:\n",
    "        print(\"Invalid category.\\n\")  # If it is not valid, it shows an error and stops the function\n",
    "        return\n",
    "    \n",
    "    # If the search is by price, uses input_number, otherwise uses input_text\n",
    "    if category == \"price\":\n",
    "        value = input_number(\"Enter the value to search for: \")\n",
    "    else:\n",
    "        value = input_text(\"Enter the value to search for: \")\n",
    "    \n",
    "    # Filters the products in the catalogue that match the search criteria\n",
    "    results = [prod for prod in fashion_catalogue if prod[category] == value]\n",
    "    \n",
    "    # If there are results, it prints them\n",
    "    if results:\n",
    "        print(\"Products found:\")\n",
    "        for prod in results:\n",
    "            print(f\"Name: {prod['name']}, Price: {prod['price']}€, Size: {prod['size']}, Color: {prod['color']}, Material: {prod['material']}\")\n",
    "            print()\n",
    "    else:\n",
    "        print(\"No products found with the specified criteria.\\n\")  # If it finds nothing, it informs the user\n",
    "        print()\n",
    "\n",
    "\n",
    "# Function to generate various product statistics\n",
    "def products_distribution():\n",
    "    \n",
    "    print(f\"Total registered products: {len(fashion_catalogue)}\")  # Counts the total number of products\n",
    "    \n",
    "    if fashion_catalogue:  # If there are products, calculates statistics\n",
    "        prices = [prod['price'] for prod in fashion_catalogue]  # Get all prices\n",
    "        \n",
    "        # Counts the frequency of each price, color and material\n",
    "        prices_counter = Counter(prices)  \n",
    "        colors_counter = Counter(prod['color'] for prod in fashion_catalogue)  \n",
    "        materials_counter = Counter(prod['material'] for prod in fashion_catalogue)  \n",
    "        \n",
    "        # Prints the price distribution\n",
    "        print(\"Distribution by price:\")\n",
    "        for price, count in prices_counter.items():\n",
    "            print(f\"- {price}€: {count} products\")\n",
    "        \n",
    "        # Prints price statistics\n",
    "        print(f\"Most expensive product: {max(prices)}€\")\n",
    "        print(f\"Less expensive product {min(prices)}€\")\n",
    "        print(f\"Average price: {sum(prices) / len(prices):.2f}€\")\n",
    "        \n",
    "        # Prints the most common color and material\n",
    "        print(\"Most common color:\", colors_counter.most_common(1))\n",
    "        print(\"Most common material:\", materials_counter.most_common(1))\n",
    "    print()"
   ]
  },
  {
   "cell_type": "markdown",
   "id": "8a516ca1-5dfe-4152-ae1a-d61e47c46a8a",
   "metadata": {},
   "source": [
    "***Interactive menu**"
   ]
  },
  {
   "cell_type": "code",
   "execution_count": 13,
   "id": "1f52d289-37f0-4719-a0ae-b834d46d8302",
   "metadata": {},
   "outputs": [],
   "source": [
    "# Function to display an interactive menu for the user\n",
    "def menu():\n",
    "    \n",
    "    while True:\n",
    "        print(\"\\n--- Fashion catalogue ---\")\n",
    "        print(\"1. Add product\")\n",
    "        print(\"2. Delete product\")\n",
    "        print(\"3. Edit product\")\n",
    "        print(\"4. Show products\")\n",
    "        print(\"5. Find product\")\n",
    "        print(\"6. Show statistics\")\n",
    "        print(\"7. Quit\")\n",
    "        choice = input(\"Chose an option: \") # Asks the user for an option\n",
    "        \n",
    "        if choice == \"1\":\n",
    "            add_product()\n",
    "        elif choice == \"2\":\n",
    "            remove_product()\n",
    "        elif choice == \"3\":\n",
    "            edit_product()\n",
    "        elif choice == \"4\":\n",
    "            show_product()\n",
    "        elif choice == \"5\":\n",
    "            search_product()\n",
    "        elif choice == \"6\":\n",
    "            products_distribution()\n",
    "        elif choice == \"7\":\n",
    "            print(\"Out of the programme.\") # Quits the cycle and terminates the programme\n",
    "            break\n",
    "        else:\n",
    "            print(\"Invalid choice. Please try again.\\n\") # Error message due to wrong choice\n"
   ]
  },
  {
   "cell_type": "markdown",
   "id": "f3073d44-044d-4361-ba01-ebf6eee12ad4",
   "metadata": {},
   "source": [
    "**Start of the program**"
   ]
  },
  {
   "cell_type": "code",
   "execution_count": null,
   "id": "62edcb63-af9c-4210-b50d-bcb59a5d89c8",
   "metadata": {},
   "outputs": [
    {
     "name": "stdout",
     "output_type": "stream",
     "text": [
      "\n",
      "--- Fashion catalogue ---\n",
      "1. Add product\n",
      "2. Delete product\n",
      "3. Edit product\n",
      "4. Show products\n",
      "5. Find product\n",
      "6. Show statistics\n",
      "7. Quit\n"
     ]
    }
   ],
   "source": [
    "menu()"
   ]
  },
  {
   "cell_type": "code",
   "execution_count": null,
   "id": "44c1c7f3-6ca3-4d30-9c32-2af86c249129",
   "metadata": {},
   "outputs": [],
   "source": []
  }
 ],
 "metadata": {
  "kernelspec": {
   "display_name": "Python [conda env:base] *",
   "language": "python",
   "name": "conda-base-py"
  },
  "language_info": {
   "codemirror_mode": {
    "name": "ipython",
    "version": 3
   },
   "file_extension": ".py",
   "mimetype": "text/x-python",
   "name": "python",
   "nbconvert_exporter": "python",
   "pygments_lexer": "ipython3",
   "version": "3.12.2"
  }
 },
 "nbformat": 4,
 "nbformat_minor": 5
}
